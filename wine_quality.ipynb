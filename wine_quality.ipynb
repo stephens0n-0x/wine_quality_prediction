{
 "cells": [
  {
   "cell_type": "code",
   "execution_count": 1,
   "metadata": {},
   "outputs": [
    {
     "name": "stdout",
     "output_type": "stream",
     "text": [
      "Mean Squared Error: 3.2337963937665637\n"
     ]
    }
   ],
   "source": [
    "import pandas as pd\n",
    "from sklearn.model_selection import train_test_split\n",
    "from sklearn.preprocessing import StandardScaler, OneHotEncoder\n",
    "from sklearn.feature_extraction.text import TfidfVectorizer\n",
    "from sklearn.svm import SVR\n",
    "from sklearn.metrics import mean_squared_error\n",
    "import numpy as np\n",
    "\n",
    "\n",
    "wine_reviews = pd.read_csv('/Users/sabuhiaghayev/Downloads/winemag-data-130k-v2.csv')\n",
    "\n",
    "sample_fraction = 0.1\n",
    "train_df = wine_reviews.sample(frac=sample_fraction, random_state=42)\n",
    "test_df = wine_reviews.drop(train_df.index)\n",
    "\n",
    "train_df = train_df.dropna(subset=['points', 'price', 'description', 'variety'])\n",
    "test_df = test_df.dropna(subset=['points', 'price', 'description', 'variety'])\n",
    "\n",
    "\n",
    "numerical_features = ['price']\n",
    "categorical_features = ['variety']\n",
    "text_features = ['description']\n",
    "\n",
    "scaler = StandardScaler()\n",
    "X_train_num = scaler.fit_transform(train_df[numerical_features])\n",
    "X_test_num = scaler.transform(test_df[numerical_features])\n",
    "\n",
    "encoder = OneHotEncoder(sparse_output=False, handle_unknown='ignore')\n",
    "X_train_cat = encoder.fit_transform(train_df[categorical_features])\n",
    "X_test_cat = encoder.transform(test_df[categorical_features])\n",
    "\n",
    "tfidf = TfidfVectorizer(stop_words='english', max_features=500)  \n",
    "X_train_text = tfidf.fit_transform(train_df[text_features[0]]).toarray()\n",
    "X_test_text = tfidf.transform(test_df[text_features[0]]).toarray()\n",
    "\n",
    "\n",
    "X_train_combined = np.hstack((X_train_num, X_train_cat, X_train_text))\n",
    "X_test_combined = np.hstack((X_test_num, X_test_cat, X_test_text))\n",
    "\n",
    "y_train = train_df['points'].values\n",
    "y_test = test_df['points'].values\n",
    "\n",
    "best_params = {'C': 10, 'epsilon': 0.2, 'gamma': 'scale'}\n",
    "\n",
    "best_svr = SVR(C=best_params['C'], epsilon=best_params['epsilon'], gamma=best_params['gamma'])\n",
    "best_svr.fit(X_train_combined, y_train)\n",
    "\n",
    "y_pred = best_svr.predict(X_test_combined)\n",
    "\n",
    "mse = mean_squared_error(y_test, y_pred)\n",
    "print(f\"Mean Squared Error: {mse}\")\n"
   ]
  }
 ],
 "metadata": {
  "kernelspec": {
   "display_name": "Python 3.10.6 64-bit",
   "language": "python",
   "name": "python3"
  },
  "language_info": {
   "codemirror_mode": {
    "name": "ipython",
    "version": 3
   },
   "file_extension": ".py",
   "mimetype": "text/x-python",
   "name": "python",
   "nbconvert_exporter": "python",
   "pygments_lexer": "ipython3",
   "version": "3.10.6"
  },
  "orig_nbformat": 4,
  "vscode": {
   "interpreter": {
    "hash": "aee8b7b246df8f9039afb4144a1f6fd8d2ca17a180786b69acc140d282b71a49"
   }
  }
 },
 "nbformat": 4,
 "nbformat_minor": 2
}
